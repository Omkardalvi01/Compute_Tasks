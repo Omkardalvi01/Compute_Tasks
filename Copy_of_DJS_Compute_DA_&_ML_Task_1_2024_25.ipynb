{
  "cells": [
    {
      "cell_type": "markdown",
      "metadata": {
        "id": "PiZZfxvj57LK"
      },
      "source": [
        "**General Instructions:**\n",
        "\n",
        "*   Please make a copy of this colab notebook in your own drive and solve the questions in the copy. Do not edit the original file.\n",
        "\n",
        "*   All participants are encouraged to learn the basics of python including data types, operators, loops, conditional statements, handling user-defined input, strings, string methods, lists, list comprehension, sets, tuples, dictionaries and basic object-oriented programming concepts before coming to the interview.\n",
        "\n",
        "Beginners unfamiliar with Python are advised to watch the following tutorial before beginning Task 1.\n",
        "\n",
        "**Python Tutorial:** https://youtu.be/_uQrJ0TkZlc?feature=shared\n",
        "\n",
        "\n",
        "**Note:** The expected output is given in the cells below the question.\n"
      ]
    },
    {
      "cell_type": "markdown",
      "metadata": {
        "id": "FgdtUgoiauGY"
      },
      "source": [
        "# Task 1 - Basics of Python\n",
        "\n",
        "\n",
        "\n",
        "> It is the year 3031 and the Earth has been invaded by an alien species from the planet of Dioneterra. The resources on their own planet have become severely depleted and they're determined to subjugate humans and take control of the Earth's resources. The Dioneterrans can take on the appearance of any human. The world has been thrown into chaos and fear as the aliens have infiltrated all levels of government. You don't know who to trust as anyone can be an alien in disguise.\n",
        "\n",
        "\n",
        "\n",
        "\n"
      ]
    },
    {
      "cell_type": "markdown",
      "metadata": {
        "id": "jk_UOVbvcfJb"
      },
      "source": [
        "**Question 1:**\n",
        "You have a group of people you can trust, whose identities you have confirmed as humans. Unfortunately, since the aliens have access to government resources they have information on all citizens. It would be the height of foolishness to call your team members by their own names while on missions to save humanity. As such you need to generate secret code names for each member.\n",
        "\n",
        "Given below is a list of names. Your job is to write a function codename_generator() that takes the given list as input and prints every possible combination of code names from the given list, separated by whitespace (e.g. Orion Barracuda). Take care to not print codenames with the same name twice (e.g. Orion Orion) or two codenames with the same combination (e.g. if you have a codename Orion Barracuda, then you cannot have a codename Barracuda Orion)."
      ]
    },
    {
      "cell_type": "code",
      "execution_count": 2,
      "metadata": {
        "id": "LmwLUF-kahv0"
      },
      "outputs": [],
      "source": [
        "name_list = [\"Orion\", \"Barracuda\", \"Amethyst\", \"Blade\", \"Wasp\", \"Nemesis\", \"Fury\", \"Cobra\", \"Tempest\", \"Leo\", \"Scythe\"]"
      ]
    },
    {
      "cell_type": "code",
      "execution_count": 3,
      "metadata": {
        "id": "H3vbMHoYf5Q1"
      },
      "outputs": [],
      "source": [
        "def codename_generator(list):\n",
        "  current = 0\n",
        "  for i in range(len(list)):\n",
        "    for j in range(current + 1, len(list)):\n",
        "      print(list[i], list[j])\n",
        "    current += 1\n",
        "\n",
        "  codename_generator(name_list)\n"
      ]
    },
    {
      "cell_type": "markdown",
      "metadata": {
        "id": "gezvSe3_hgoU"
      },
      "source": [
        "**Question 2:**\n",
        "You recently caught wind of the rumour that a Resistance Movement against the aliens is starting to gain traction. You and your group of trustworthy humans resolve to go to the headquarters of the Resistance and join the movement.\n",
        "\n",
        "You reach the headquarters and find utter chaos, the leader of the Resistance tells you that they have so many refugees and as a result their registration system is a mess and they have no way of telling apart actual humans and aliens who might have infiltrated the headquarters as humans.\n",
        "\n",
        "He knows that you have programming skills and asks for your help in weeding out the aliens.\n",
        "\n",
        "Given below in the form of a list is the register of names of refugees that the headquarters maintains. Sort the names into two lists - potential aliens and humans. Alien names may:\n",
        "*   begin with the letter 'G'\n",
        "*   contain the substring 'arz'\n",
        "*   contain a digit\n",
        "\n",
        "Additionally, ensure that the new lists do not contain duplicate names and handle any problems that may arise due to case-sensitivity and whitespaces.\n",
        "\n"
      ]
    },
    {
      "cell_type": "code",
      "execution_count": 4,
      "metadata": {
        "id": "xqobzAhOunhf"
      },
      "outputs": [],
      "source": [
        "register = [\"Gunther\", \"karzan\", \"pip1do\", \"amelia\", \"emma\", \"jarzk\", \"P0ppy\", \"gunther\", \"Daisy\",\" Demelza \", \"Lisa \", \"garzon \", \"marz4\"]"
      ]
    },
    {
      "cell_type": "code",
      "execution_count": 5,
      "metadata": {
        "colab": {
          "base_uri": "https://localhost:8080/"
        },
        "id": "ZHWkgegKvpgZ",
        "outputId": "c538d553-a77b-4b88-88c7-6d47100e5607"
      },
      "outputs": [
        {
          "name": "stdout",
          "output_type": "stream",
          "text": [
            "['daisy', 'lisa', 'emma', 'demelza', 'amelia']\n",
            "['gunther', 'jarzk', 'garzon', 'karzan', 'p0ppy', 'pip1do', 'marz4']\n"
          ]
        }
      ],
      "source": [
        "register_set = set()\n",
        "for word in register:\n",
        "    word = word.casefold()\n",
        "    word = word.replace(\" \", \"\")\n",
        "    register_set.add(word)\n",
        "register = list(register_set)\n",
        "\n",
        "Human_list = []\n",
        "Alien_list = []\n",
        "\n",
        "\n",
        "for word in register:\n",
        "    Alien = False\n",
        "    containsDigit = False\n",
        "    for character in word:\n",
        "        if 48 <= ord(character) <= 57:\n",
        "                containsDigit = True\n",
        "    if word[0] == \"g\":\n",
        "            Alien = True\n",
        "    elif not(word.find(\"arz\") == -1):\n",
        "            Alien = True\n",
        "    elif containsDigit:\n",
        "            Alien = True\n",
        "    if(Alien):\n",
        "        Alien_list.append(word)\n",
        "    else:\n",
        "        Human_list.append(word)\n",
        "\n",
        "print(Human_list)\n",
        "print(Alien_list)"
      ]
    },
    {
      "cell_type": "markdown",
      "metadata": {
        "id": "coC9Sbqd0bq0"
      },
      "source": [
        "**Question 3:** Now that you have identified the potential aliens, its now time to decide how probable it is that these refugees are aliens.\n",
        "\n",
        "Prepare a dictionary where the keys are the names from the potential aliens list and the associated values are percentages from 0-100 of how probable it is that the refugee with those names are aliens.\n",
        "\n",
        "Given below are the conditions and associated probabilities:\n",
        "*   name starts with 'g' - 25%\n",
        "*   name contains \"arz\" - 50%\n",
        "*   name starts with 'g' and contains \"arz\" - 75%\n",
        "*   name has a digit - 100%"
      ]
    },
    {
      "cell_type": "code",
      "execution_count": 6,
      "metadata": {
        "colab": {
          "base_uri": "https://localhost:8080/"
        },
        "id": "aPuIzBQv2sSS",
        "outputId": "cbeaba6b-0e45-4eaa-be35-e067913046e6"
      },
      "outputs": [
        {
          "name": "stdout",
          "output_type": "stream",
          "text": [
            "{'gunther': 25, 'jarzk': 50, 'garzon': 75, 'karzan': 50, 'p0ppy': 100, 'pip1do': 100, 'marz4': 100}\n"
          ]
        }
      ],
      "source": [
        "possibility = {}\n",
        "\n",
        "for word in Alien_list:\n",
        "    containsDigit = False\n",
        "    for character in word:\n",
        "        if 48 <= ord(character) <= 57:\n",
        "                containsDigit = True\n",
        "    if containsDigit:\n",
        "          possibility[word] = 100\n",
        "    elif word[0] == \"g\" and (word.find(\"arz\") != -1):\n",
        "            possibility[word] = 75\n",
        "    elif (word.find(\"arz\") != -1):\n",
        "            possibility[word] = 50\n",
        "    elif word[0] == \"g\":\n",
        "            possibility[word] = 25\n",
        "print(possibility)\n"
      ]
    },
    {
      "cell_type": "markdown",
      "metadata": {
        "id": "6z7Wr4BD8xSA"
      },
      "source": [
        "**Question 4:** Now that you have completely weeded out the aliens, onto the next part of the plan.\n",
        "\n",
        "There are 12 districts in your city - I to XII. Another resistance group has agreed to share supplies with your group. They send you a list of districts they are operational in and you have in hand, the list of districts your group has members in. Determine which districts you can meet up in, i.e., districts that both the groups operate in.\n",
        "\n",
        "Hint: set operations may prove useful."
      ]
    },
    {
      "cell_type": "code",
      "execution_count": 7,
      "metadata": {
        "id": "xUCGsUO9-use"
      },
      "outputs": [],
      "source": [
        "your_districts = ['I', 'IV', 'V', 'I', 'VI', 'IX', 'X', 'II', 'III', 'I']\n",
        "their_districts = ['V', 'IV', 'VI', 'XII', 'VII', 'IV', 'VI', 'VIII', 'III']"
      ]
    },
    {
      "cell_type": "code",
      "execution_count": 8,
      "metadata": {
        "colab": {
          "base_uri": "https://localhost:8080/"
        },
        "id": "y7MSDDAL_ZhT",
        "outputId": "04b8382e-7ec2-4e82-95ec-4d113055a717"
      },
      "outputs": [
        {
          "name": "stdout",
          "output_type": "stream",
          "text": [
            "['IV', 'V', 'VI', 'III']\n"
          ]
        }
      ],
      "source": [
        "our_unique_dist = set(your_districts)\n",
        "their_unique_dist = set(their_districts)\n",
        "\n",
        "common_dist = list(our_unique_dist.intersection(their_unique_dist))\n",
        "print(common_dist)"
      ]
    },
    {
      "cell_type": "markdown",
      "metadata": {
        "id": "0MHXt5lKAYIW"
      },
      "source": [
        "Let's take the difficulty up a notch shall we? Your spies have informed you that the alien goverment has been setting up patrols in some districts to curb rebel movement. One of the spies managed to get a list of the districts that are being patrolled. Ensure that your meet up with the other rebel group does not take place in a patrolled district so that you do not get caught."
      ]
    },
    {
      "cell_type": "code",
      "execution_count": 9,
      "metadata": {
        "id": "M-2hfJTOCfAz"
      },
      "outputs": [],
      "source": [
        "patrolled_districts = ['I', 'II', 'XII', 'IX', 'XI', 'IV', 'II', 'VI']"
      ]
    },
    {
      "cell_type": "code",
      "execution_count": 10,
      "metadata": {
        "colab": {
          "base_uri": "https://localhost:8080/"
        },
        "id": "bYjT2EfTC0uu",
        "outputId": "df3e7535-8cd1-4374-9ba8-4d004a61ac7b"
      },
      "outputs": [
        {
          "name": "stdout",
          "output_type": "stream",
          "text": [
            "{'V', 'III'}\n"
          ]
        }
      ],
      "source": [
        "common_dist_set = set(common_dist)\n",
        "patrolled_districts_set = set(patrolled_districts)\n",
        "\n",
        "unsafe_districts = common_dist_set.intersection(patrolled_districts_set)\n",
        "safe_dist = common_dist_set.difference(unsafe_districts)\n",
        "print(safe_dist)"
      ]
    },
    {
      "cell_type": "markdown",
      "metadata": {
        "id": "hryYd_ubD2U8"
      },
      "source": [
        "**Question 5:** Given below is a list of tuples. Each tuple in this list contains the rank and the name of a Dioneterran Commander. Your job is to define two functions: sort_by_rank() in descending order and sort_by_name() alphabetically to sort the given list by rank and name, respectively.\n",
        "\n",
        "Hint: use lambda expressions"
      ]
    },
    {
      "cell_type": "code",
      "execution_count": 11,
      "metadata": {
        "id": "XniLIPBoGrl9"
      },
      "outputs": [],
      "source": [
        "commanders = {(4, \"Barzak\"), (2, \"Donesia\"), (5, \"Zeroza\"), (1, \"Yggacia\"), (3, \"Larzon\")}"
      ]
    },
    {
      "cell_type": "code",
      "execution_count": 12,
      "metadata": {
        "colab": {
          "base_uri": "https://localhost:8080/"
        },
        "id": "bjq8PTTOHh56",
        "outputId": "f5cb6a5a-165b-44c3-b9e6-2b6986e127d2"
      },
      "outputs": [
        {
          "name": "stdout",
          "output_type": "stream",
          "text": [
            "[(5, 'Zeroza'), (4, 'Barzak'), (3, 'Larzon'), (2, 'Donesia'), (1, 'Yggacia')]\n",
            "[(4, 'Barzak'), (2, 'Donesia'), (3, 'Larzon'), (1, 'Yggacia'), (5, 'Zeroza')]\n"
          ]
        }
      ],
      "source": [
        "def sort_by_rank(set_of_commanders):\n",
        "    list_of_commanders = list(set_of_commanders)\n",
        "    list_of_commanders.sort(reverse=True)\n",
        "    print(list_of_commanders)\n",
        "\n",
        "def sort_by_name(set_of_commanders):\n",
        "    list_of_commanders = list(sorted(set_of_commanders, key=lambda set_of_commanders: set_of_commanders[1]))\n",
        "    print(list_of_commanders)\n",
        "\n",
        "sort_by_rank(commanders)\n",
        "sort_by_name(commanders)"
      ]
    },
    {
      "cell_type": "markdown",
      "metadata": {
        "id": "90Nijs1KIZZ0"
      },
      "source": [
        "**Question 6:** You have been given the task of calculating the danger level of Dioneterran Commanders. To accomplish this task, you're required to define a class Commander with the attributes name, rank, weight, height and age. Implement a method calculate_danger() that returns the danger level by adding the height to the weight and dividing the result by the age, round off to the nearest integer.\n",
        "\n",
        "Create a Commander object with the necessary parameters and print the danger level."
      ]
    },
    {
      "cell_type": "code",
      "execution_count": 13,
      "metadata": {
        "colab": {
          "base_uri": "https://localhost:8080/"
        },
        "id": "gnI1a0TFLoqh",
        "outputId": "c5f39eb1-6ed1-4c86-8cca-f824f0a30e39"
      },
      "outputs": [
        {
          "name": "stdout",
          "output_type": "stream",
          "text": [
            "Danger Level: 8\n"
          ]
        }
      ],
      "source": [
        "class Commander:\n",
        "    def __init__(self,name,rank,height,weight,age):\n",
        "        self.name = name\n",
        "        self.rank = rank\n",
        "        self.height = height\n",
        "        self.weight = weight\n",
        "        self.age = age\n",
        "\n",
        "    def calculate_danger(self):\n",
        "        danger = round((self.height + self.weight) / self.age)\n",
        "        return danger\n",
        "\n",
        "C1 = Commander(\"Darkrai\", 4, 185, 75, 32)\n",
        "DL = C1.calculate_danger()\n",
        "\n",
        "print(f\"Danger Level: {DL}\")\n"
      ]
    },
    {
      "cell_type": "markdown",
      "metadata": {
        "id": "74iydRkwULOi"
      },
      "source": [
        "**Question 7:** All the refugees in the headquarters who have been confirmed as humans have been assigned an ID. A lock has been installed at the gate. Your job is to write a regular expression that checks whether the ID entered is a valid one. Valid IDs have the following features:\n",
        "*   They are strings of exactly 7 characters\n",
        "*   The first 3 characters are uppercase alphabets\n",
        "*   The other last 4 characters are digits.\n",
        "\n",
        "Given below is a list of IDs entered at the gate. Determine which ones are valid.\n",
        "\n",
        "\n",
        "P.S. Don't forget to import the re module"
      ]
    },
    {
      "cell_type": "code",
      "execution_count": 14,
      "metadata": {
        "id": "WcroHcC4VUaY"
      },
      "outputs": [],
      "source": [
        "test_ids = [\"ABC1234\", \"sbaz56\", \"Wuy1452\", \"TYP9006\", \"KZED439\"]"
      ]
    },
    {
      "cell_type": "code",
      "execution_count": 15,
      "metadata": {
        "colab": {
          "base_uri": "https://localhost:8080/"
        },
        "id": "_Gj97hjmVpGG",
        "outputId": "69fd8e52-a08c-4624-e7dd-48c3812c6155"
      },
      "outputs": [
        {
          "name": "stdout",
          "output_type": "stream",
          "text": [
            "['ABC1234', 'TYP9006']\n"
          ]
        }
      ],
      "source": [
        "def Identifier(lst):\n",
        "    Valid_IDs = []\n",
        "    for word in lst:\n",
        "        if len(word) == 7:\n",
        "            for i in range(7):\n",
        "                if(i < 3):\n",
        "                    if 65 <= ord(word[i]) <= 90:\n",
        "                        Valid = True\n",
        "                    else:\n",
        "                        Valid = False\n",
        "\n",
        "                elif i >= 3 and Valid:\n",
        "                    if 48 <= ord(word[i]) <= 57:\n",
        "                        Valid = True\n",
        "                    else:\n",
        "                        Valid = False\n",
        "        else:\n",
        "            Valid = False\n",
        "        if Valid:\n",
        "            Valid_IDs.append(word)\n",
        "    return Valid_IDs\n",
        "test_ids = [\"ABC1234\", \"sbaz56\", \"Wuy1452\", \"TYP9006\", \"KZED439\"]\n",
        "Valid_IDs = Identifier(test_ids)\n",
        "print(Valid_IDs)"
      ]
    },
    {
      "cell_type": "markdown",
      "metadata": {
        "id": "ZlnxyGHm7z0J"
      },
      "source": [
        "For a better understanding of Regular Expressions: https://realpython.com/regex-python/"
      ]
    }
  ],
  "metadata": {
    "colab": {
      "provenance": []
    },
    "kernelspec": {
      "display_name": "Python 3",
      "name": "python3"
    },
    "language_info": {
      "codemirror_mode": {
        "name": "ipython",
        "version": 3
      },
      "file_extension": ".py",
      "mimetype": "text/x-python",
      "name": "python",
      "nbconvert_exporter": "python",
      "pygments_lexer": "ipython3",
      "version": "3.12.0"
    }
  },
  "nbformat": 4,
  "nbformat_minor": 0
}
